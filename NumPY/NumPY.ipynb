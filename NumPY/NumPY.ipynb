{
 "cells": [
  {
   "cell_type": "code",
   "execution_count": 1,
   "id": "365002e4-52b8-453e-8984-ef82b121c4ef",
   "metadata": {},
   "outputs": [],
   "source": [
    "import numpy as np\n"
   ]
  },
  {
   "cell_type": "code",
   "execution_count": 13,
   "id": "75dae7b3-0fda-4fc0-8e31-c3e1a7c58c58",
   "metadata": {},
   "outputs": [
    {
     "name": "stdout",
     "output_type": "stream",
     "text": [
      "[1 2 3 4]\n"
     ]
    },
    {
     "data": {
      "text/plain": [
       "array([1. , 2. , 3. , 4. , 3.2])"
      ]
     },
     "execution_count": 13,
     "metadata": {},
     "output_type": "execute_result"
    }
   ],
   "source": [
    "## Basic array creations\n",
    "arr = np.array([1,2,3,4])\n",
    "print(arr)\n",
    "\n",
    "##list \n",
    "a = [1,2,3,4, \"hello\", 3.2]\n",
    "a\n",
    "\n",
    "## converting list to array\n",
    "np.array(a)\n",
    "\n",
    "## will convert everything into floats\n",
    "a = [1,2,3,4,3.2]\n",
    "np.array(a)"
   ]
  },
  {
   "cell_type": "code",
   "execution_count": null,
   "id": "9a9ae754-6404-45e4-82a5-b7c4a33553a1",
   "metadata": {},
   "outputs": [],
   "source": [
    "## creating 2 dimensional array\n",
    "l = [[1,2,3],[4,5,6],[7,8,9]]\n",
    "np.array(l)"
   ]
  },
  {
   "cell_type": "markdown",
   "id": "5bafbb84-b96e-4112-9e64-96cc45765b3e",
   "metadata": {},
   "source": [
    "## Array Generation function "
   ]
  },
  {
   "cell_type": "code",
   "execution_count": 17,
   "id": "47824a54-24e0-4bef-8a98-6fe803896b9c",
   "metadata": {},
   "outputs": [
    {
     "name": "stdout",
     "output_type": "stream",
     "text": [
      "[1 2 3 4 5 6 7 8 9]\n"
     ]
    }
   ],
   "source": [
    "arr = np.arange(1,10)\n",
    "print(arr)"
   ]
  },
  {
   "cell_type": "code",
   "execution_count": 20,
   "id": "51ee4c54-b702-4f0e-a220-6987d72c2567",
   "metadata": {},
   "outputs": [
    {
     "name": "stdout",
     "output_type": "stream",
     "text": [
      "[[0. 0. 0. 0. 0. 0. 0. 0.]\n",
      " [0. 0. 0. 0. 0. 0. 0. 0.]\n",
      " [0. 0. 0. 0. 0. 0. 0. 0.]\n",
      " [0. 0. 0. 0. 0. 0. 0. 0.]]\n"
     ]
    }
   ],
   "source": [
    "##generating zer\n",
    "arr = np.zeros((4,8))\n",
    "print(arr)"
   ]
  },
  {
   "cell_type": "code",
   "execution_count": 175,
   "id": "baf8b550-bd1f-4e4a-a7d1-317887dd2dac",
   "metadata": {},
   "outputs": [
    {
     "name": "stdout",
     "output_type": "stream",
     "text": [
      "[1.   2.25 3.5  4.75 6.  ]\n"
     ]
    }
   ],
   "source": [
    "arr = np.linspace(1,6,5)\n",
    "print(arr)\n",
    "\n",
    "# [[ ]] -> vectors \n",
    "# [] -> matrix\n",
    "# 0 to 1 is normatlization\n",
    "# 3 to -3 is standardization"
   ]
  },
  {
   "cell_type": "code",
   "execution_count": 62,
   "id": "62de7620-5157-4bd7-bbe5-d63fdc16d9d4",
   "metadata": {},
   "outputs": [
    {
     "data": {
      "text/plain": [
       "array([ 0.30960594,  0.47441388,  1.63016372, -1.70218249,  0.19097934,\n",
       "       -1.41628807,  0.32920959,  0.019575  ,  0.49110378,  1.1791396 ])"
      ]
     },
     "execution_count": 62,
     "metadata": {},
     "output_type": "execute_result"
    }
   ],
   "source": [
    "## Random generation fucntions\n",
    "np.random.randn(10)\n"
   ]
  },
  {
   "cell_type": "code",
   "execution_count": 33,
   "id": "a2d4de62-476d-4ed3-a485-1f010ab08d08",
   "metadata": {},
   "outputs": [
    {
     "data": {
      "text/plain": [
       "array([13, 21, 12, 11, 13, 17, 12, 15, 16, 17, 14, 10, 13, 11, 21, 15, 13,\n",
       "       10, 22], dtype=int32)"
      ]
     },
     "execution_count": 33,
     "metadata": {},
     "output_type": "execute_result"
    }
   ],
   "source": [
    "np.random.randint(10,23,19)"
   ]
  },
  {
   "cell_type": "markdown",
   "id": "216faf69-0331-4420-a271-c7fcff87c27c",
   "metadata": {},
   "source": [
    "Array Attributes\n",
    "\n",
    "Attributes are kind of var defined inside class\n",
    "Methods are what functions are defined inside a class"
   ]
  },
  {
   "cell_type": "code",
   "execution_count": 34,
   "id": "84d3c208-e857-4f18-93c8-831e5d8b3a55",
   "metadata": {},
   "outputs": [
    {
     "name": "stdout",
     "output_type": "stream",
     "text": [
      "[[1 2 3]\n",
      " [4 5 6]\n",
      " [7 8 9]]\n"
     ]
    }
   ],
   "source": [
    "arr = np.array([[1,2,3],[4,5,6],[7,8,9]])\n",
    "print(arr)"
   ]
  },
  {
   "cell_type": "code",
   "execution_count": 35,
   "id": "263d41ac-ded9-467f-b9a5-ddb486deb53c",
   "metadata": {},
   "outputs": [
    {
     "data": {
      "text/plain": [
       "(3, 3)"
      ]
     },
     "execution_count": 35,
     "metadata": {},
     "output_type": "execute_result"
    }
   ],
   "source": [
    "arr.shape"
   ]
  },
  {
   "cell_type": "code",
   "execution_count": 36,
   "id": "a756be04-b243-4cb0-9a54-552b61067606",
   "metadata": {},
   "outputs": [
    {
     "data": {
      "text/plain": [
       "9"
      ]
     },
     "execution_count": 36,
     "metadata": {},
     "output_type": "execute_result"
    }
   ],
   "source": [
    "arr.size"
   ]
  },
  {
   "cell_type": "code",
   "execution_count": 37,
   "id": "249e4da4-3bca-43e4-9d60-29ed79c49370",
   "metadata": {},
   "outputs": [
    {
     "data": {
      "text/plain": [
       "dtype('int64')"
      ]
     },
     "execution_count": 37,
     "metadata": {},
     "output_type": "execute_result"
    }
   ],
   "source": [
    "arr.dtype"
   ]
  },
  {
   "cell_type": "code",
   "execution_count": 38,
   "id": "c16164c6-ae5e-422f-9358-5a3c77e3bc6b",
   "metadata": {},
   "outputs": [
    {
     "data": {
      "text/plain": [
       "array([[1, 2, 3],\n",
       "       [4, 5, 6],\n",
       "       [7, 8, 9]])"
      ]
     },
     "execution_count": 38,
     "metadata": {},
     "output_type": "execute_result"
    }
   ],
   "source": [
    "arr"
   ]
  },
  {
   "cell_type": "code",
   "execution_count": 43,
   "id": "ef16b3ec-18be-4379-abbf-10411459607b",
   "metadata": {},
   "outputs": [
    {
     "data": {
      "text/plain": [
       "np.int64(45)"
      ]
     },
     "execution_count": 43,
     "metadata": {},
     "output_type": "execute_result"
    }
   ],
   "source": [
    "arr.min()\n",
    "arr.max()\n",
    "arr.sum()"
   ]
  },
  {
   "cell_type": "code",
   "execution_count": 44,
   "id": "46c683cc-83b6-40c4-b28c-ac354a992f49",
   "metadata": {},
   "outputs": [
    {
     "data": {
      "text/plain": [
       "np.int64(45)"
      ]
     },
     "execution_count": 44,
     "metadata": {},
     "output_type": "execute_result"
    }
   ],
   "source": [
    "arr.sum()"
   ]
  },
  {
   "cell_type": "code",
   "execution_count": 47,
   "id": "a15ad27a-fe4f-465f-8e60-9b2a9cf26b67",
   "metadata": {},
   "outputs": [
    {
     "ename": "SyntaxError",
     "evalue": "invalid syntax (3087967230.py, line 1)",
     "output_type": "error",
     "traceback": [
      "\u001b[1;36m  Cell \u001b[1;32mIn[47], line 1\u001b[1;36m\u001b[0m\n\u001b[1;33m    np.sum(arr, axis = 0)    |\u001b[0m\n\u001b[1;37m                              ^\u001b[0m\n\u001b[1;31mSyntaxError\u001b[0m\u001b[1;31m:\u001b[0m invalid syntax\n"
     ]
    }
   ],
   "source": [
    "np.sum(arr, axis = 0)    \n",
    "                        |\n",
    "                        \\/"
   ]
  },
  {
   "cell_type": "code",
   "execution_count": 46,
   "id": "c1e23987-6872-416c-904c-a8e3c4c441e5",
   "metadata": {},
   "outputs": [
    {
     "data": {
      "text/plain": [
       "array([ 6, 15, 24])"
      ]
     },
     "execution_count": 46,
     "metadata": {},
     "output_type": "execute_result"
    }
   ],
   "source": [
    "np.sum(arr, axis = 1)  ->"
   ]
  },
  {
   "cell_type": "code",
   "execution_count": 48,
   "id": "42d69c8a-e69f-488b-b748-2ec136bcd3d4",
   "metadata": {},
   "outputs": [
    {
     "data": {
      "text/plain": [
       "np.float64(5.0)"
      ]
     },
     "execution_count": 48,
     "metadata": {},
     "output_type": "execute_result"
    }
   ],
   "source": [
    "arr.mean()"
   ]
  },
  {
   "cell_type": "code",
   "execution_count": 50,
   "id": "f16b3495-e349-4da4-b993-4cfa59245ada",
   "metadata": {},
   "outputs": [
    {
     "data": {
      "text/plain": [
       "np.float64(2.581988897471611)"
      ]
     },
     "execution_count": 50,
     "metadata": {},
     "output_type": "execute_result"
    }
   ],
   "source": [
    "arr.std()"
   ]
  },
  {
   "cell_type": "code",
   "execution_count": 51,
   "id": "93888800-8aff-41ff-8429-c497ddbc5936",
   "metadata": {},
   "outputs": [
    {
     "data": {
      "text/plain": [
       "np.int64(8)"
      ]
     },
     "execution_count": 51,
     "metadata": {},
     "output_type": "execute_result"
    }
   ],
   "source": [
    "arr.argmax() \n",
    "##will return index "
   ]
  },
  {
   "cell_type": "markdown",
   "id": "0f3575e6-4ba4-41bd-8fcb-a1c7840e636a",
   "metadata": {},
   "source": [
    "Resizing and Reshaping"
   ]
  },
  {
   "cell_type": "code",
   "execution_count": 59,
   "id": "2b84b0ed-ce72-4306-a4a8-c76a5e2e72f1",
   "metadata": {},
   "outputs": [
    {
     "data": {
      "text/plain": [
       "array([ 1,  2,  3,  4,  5,  6,  7,  8,  9, 10, 11, 12, 13, 14, 15, 16, 17,\n",
       "       18, 19, 20, 21, 22, 23, 24, 25, 26, 27, 28, 29, 30])"
      ]
     },
     "execution_count": 59,
     "metadata": {},
     "output_type": "execute_result"
    }
   ],
   "source": [
    "arr = np.arange(1,31) \n",
    "arr\n",
    "## will return index"
   ]
  },
  {
   "cell_type": "code",
   "execution_count": 60,
   "id": "a661c3c3-a940-40c2-8803-b5bc0aba0b1b",
   "metadata": {},
   "outputs": [
    {
     "data": {
      "text/plain": [
       "array([[ 1,  2,  3,  4,  5],\n",
       "       [ 6,  7,  8,  9, 10],\n",
       "       [11, 12, 13, 14, 15],\n",
       "       [16, 17, 18, 19, 20],\n",
       "       [21, 22, 23, 24, 25],\n",
       "       [26, 27, 28, 29, 30]])"
      ]
     },
     "execution_count": 60,
     "metadata": {},
     "output_type": "execute_result"
    }
   ],
   "source": [
    "arr.reshape(6,5)"
   ]
  },
  {
   "cell_type": "raw",
   "id": "566a1740-bfea-4133-928a-2c4cf57af802",
   "metadata": {},
   "source": [
    "NUMPY INDEXING AND SLICING OF VECTORS\n"
   ]
  },
  {
   "cell_type": "code",
   "execution_count": 61,
   "id": "e7633538-8542-4bea-a4fc-6b47b17759e2",
   "metadata": {},
   "outputs": [],
   "source": [
    "import numpy as np"
   ]
  },
  {
   "cell_type": "code",
   "execution_count": 66,
   "id": "2fde1138-f860-471e-bdb8-339cbe748a84",
   "metadata": {},
   "outputs": [
    {
     "name": "stdout",
     "output_type": "stream",
     "text": [
      "[11 12 13 14 15 16 17 18 19 20]\n"
     ]
    }
   ],
   "source": [
    "arr = np.arange(11,21)\n",
    "print(arr)"
   ]
  },
  {
   "cell_type": "code",
   "execution_count": 67,
   "id": "c1074bf1-50c4-49ce-b6c7-bdd0b19f99c7",
   "metadata": {},
   "outputs": [
    {
     "data": {
      "text/plain": [
       "np.int64(17)"
      ]
     },
     "execution_count": 67,
     "metadata": {},
     "output_type": "execute_result"
    }
   ],
   "source": [
    "arr[6]"
   ]
  },
  {
   "cell_type": "code",
   "execution_count": 70,
   "id": "1863ced0-2854-4bf6-a474-c4e6f36ca6de",
   "metadata": {},
   "outputs": [
    {
     "data": {
      "text/plain": [
       "array([12, 13, 14, 15])"
      ]
     },
     "execution_count": 70,
     "metadata": {},
     "output_type": "execute_result"
    }
   ],
   "source": [
    "arr[1:5]"
   ]
  },
  {
   "cell_type": "code",
   "execution_count": 71,
   "id": "9bd94a03-bb6e-4136-b4f5-2f9ad8a65a7c",
   "metadata": {},
   "outputs": [
    {
     "data": {
      "text/plain": [
       "array([11, 12, 13, 14, 15])"
      ]
     },
     "execution_count": 71,
     "metadata": {},
     "output_type": "execute_result"
    }
   ],
   "source": [
    "arr[:5]"
   ]
  },
  {
   "cell_type": "code",
   "execution_count": 72,
   "id": "7904b040-ccac-4ab2-ace6-63cfbe71ec8b",
   "metadata": {},
   "outputs": [
    {
     "data": {
      "text/plain": [
       "array([16, 17, 18, 19, 20])"
      ]
     },
     "execution_count": 72,
     "metadata": {},
     "output_type": "execute_result"
    }
   ],
   "source": [
    "arr[5:]"
   ]
  },
  {
   "cell_type": "code",
   "execution_count": 73,
   "id": "6e5f9af6-facd-4bde-9914-1c29b9efdc9e",
   "metadata": {},
   "outputs": [
    {
     "data": {
      "text/plain": [
       "array([14, 15, 16, 17, 18, 19, 20])"
      ]
     },
     "execution_count": 73,
     "metadata": {},
     "output_type": "execute_result"
    }
   ],
   "source": [
    "arr[3:]"
   ]
  },
  {
   "cell_type": "code",
   "execution_count": 74,
   "id": "67865177-8db3-4bda-a0b1-a8c4b4258a48",
   "metadata": {},
   "outputs": [
    {
     "data": {
      "text/plain": [
       "array([14, 16, 18, 20])"
      ]
     },
     "execution_count": 74,
     "metadata": {},
     "output_type": "execute_result"
    }
   ],
   "source": [
    "arr[3::2]"
   ]
  },
  {
   "cell_type": "markdown",
   "id": "ea2f494e-8092-460d-b6d5-85561e6fbce1",
   "metadata": {},
   "source": [
    "NUMPY INDEXING AND SLICINF OF MATRIX"
   ]
  },
  {
   "cell_type": "code",
   "execution_count": 79,
   "id": "24b93c7d-f95b-48b8-9bb4-9c01b83c09f0",
   "metadata": {
    "scrolled": true
   },
   "outputs": [
    {
     "name": "stdout",
     "output_type": "stream",
     "text": [
      "[[ 1  2  3  4  5]\n",
      " [ 6  7  8  9 10]\n",
      " [11 12 13 14 15]\n",
      " [16 17 18 19 20]\n",
      " [21 22 23 24 25]\n",
      " [26 27 28 29 30]]\n"
     ]
    }
   ],
   "source": [
    "arr = np.arange(1,31).reshape(6,5)\n",
    "print(arr)"
   ]
  },
  {
   "cell_type": "code",
   "execution_count": 80,
   "id": "5c3e86cd-8756-464f-b697-378e27f3d380",
   "metadata": {},
   "outputs": [
    {
     "data": {
      "text/plain": [
       "array([ 6,  7,  8,  9, 10])"
      ]
     },
     "execution_count": 80,
     "metadata": {},
     "output_type": "execute_result"
    }
   ],
   "source": [
    "arr[1]"
   ]
  },
  {
   "cell_type": "code",
   "execution_count": 81,
   "id": "f2ba15f6-64a2-46fb-ab19-6e7b9ca45996",
   "metadata": {},
   "outputs": [
    {
     "data": {
      "text/plain": [
       "array([1, 2, 3, 4, 5])"
      ]
     },
     "execution_count": 81,
     "metadata": {},
     "output_type": "execute_result"
    }
   ],
   "source": [
    "arr[0]"
   ]
  },
  {
   "cell_type": "code",
   "execution_count": 98,
   "id": "12f7545b-a5d8-4253-a34b-228e48da588e",
   "metadata": {},
   "outputs": [
    {
     "data": {
      "text/plain": [
       "np.int64(4)"
      ]
     },
     "execution_count": 98,
     "metadata": {},
     "output_type": "execute_result"
    }
   ],
   "source": [
    "arr[0,3]"
   ]
  },
  {
   "cell_type": "code",
   "execution_count": 110,
   "id": "f1c3325c-2004-4fb4-b69b-283b6c3df8d0",
   "metadata": {},
   "outputs": [
    {
     "data": {
      "text/plain": [
       "array([[2, 3],\n",
       "       [7, 8]])"
      ]
     },
     "execution_count": 110,
     "metadata": {},
     "output_type": "execute_result"
    }
   ],
   "source": [
    "arr[0:2,1:3]"
   ]
  },
  {
   "cell_type": "code",
   "execution_count": 111,
   "id": "64fc03ac-0cb5-4acd-83fa-74e08e04cea3",
   "metadata": {},
   "outputs": [
    {
     "data": {
      "text/plain": [
       "array([[19, 20],\n",
       "       [24, 25],\n",
       "       [29, 30]])"
      ]
     },
     "execution_count": 111,
     "metadata": {},
     "output_type": "execute_result"
    }
   ],
   "source": [
    "arr[3:, 3:]"
   ]
  },
  {
   "cell_type": "code",
   "execution_count": null,
   "id": "dc342007-afcf-45fd-90af-940a3285d526",
   "metadata": {},
   "outputs": [],
   "source": [
    "## rows are from up to down  , columns are from left to right"
   ]
  },
  {
   "cell_type": "code",
   "execution_count": 114,
   "id": "649cffd7-17ff-4646-a0f3-f87bd5320605",
   "metadata": {},
   "outputs": [
    {
     "data": {
      "text/plain": [
       "array([ 3,  8, 13, 18, 23, 28])"
      ]
     },
     "execution_count": 114,
     "metadata": {},
     "output_type": "execute_result"
    }
   ],
   "source": [
    "arr[:, 2]"
   ]
  },
  {
   "cell_type": "code",
   "execution_count": 116,
   "id": "5e61e63f-4eb2-464a-aafb-5789a8eef2a8",
   "metadata": {},
   "outputs": [
    {
     "data": {
      "text/plain": [
       "array([[11, 12],\n",
       "       [16, 17],\n",
       "       [21, 22],\n",
       "       [26, 27]])"
      ]
     },
     "execution_count": 116,
     "metadata": {},
     "output_type": "execute_result"
    }
   ],
   "source": [
    "arr[2:, 0:2]"
   ]
  },
  {
   "cell_type": "markdown",
   "id": "1d2588ef-3c22-46f3-97f6-26fa65c905fb",
   "metadata": {},
   "source": [
    "BOOLEAN INDEXING "
   ]
  },
  {
   "cell_type": "code",
   "execution_count": 117,
   "id": "5358208a-446f-4553-8f85-b25aefb207f9",
   "metadata": {},
   "outputs": [
    {
     "name": "stdout",
     "output_type": "stream",
     "text": [
      "[[False  True False  True False]\n",
      " [ True False  True False  True]\n",
      " [False  True False  True False]\n",
      " [ True False  True False  True]\n",
      " [False  True False  True False]\n",
      " [ True False  True False  True]]\n"
     ]
    }
   ],
   "source": [
    "bool_index = arr%2 == 0\n",
    "print(bool_index)"
   ]
  },
  {
   "cell_type": "code",
   "execution_count": null,
   "id": "71e993c0-5378-4a4d-af10-cecaf190f564",
   "metadata": {},
   "outputs": [],
   "source": [
    "arr = arr[bool_index]\n",
    "print(arr)"
   ]
  },
  {
   "cell_type": "code",
   "execution_count": null,
   "id": "ec996c27-37e8-4e74-8f6b-333b19aeaded",
   "metadata": {},
   "outputs": [],
   "source": [
    "ARRAY OPERATIONS \n"
   ]
  },
  {
   "cell_type": "code",
   "execution_count": 123,
   "id": "687358bf-be7b-405f-8d13-82b94dcdbaa1",
   "metadata": {},
   "outputs": [
    {
     "name": "stdout",
     "output_type": "stream",
     "text": [
      "[1 2 3 4 5]\n"
     ]
    }
   ],
   "source": [
    "a1 = np.array([1,2,3,4,5])\n",
    "a2 = np.array([6,7,8,9,10])\n",
    "print(a1)"
   ]
  },
  {
   "cell_type": "code",
   "execution_count": 124,
   "id": "28d83231-27e4-4ede-9354-008967c33cbf",
   "metadata": {},
   "outputs": [
    {
     "data": {
      "text/plain": [
       "array([ 6,  7,  8,  9, 10])"
      ]
     },
     "execution_count": 124,
     "metadata": {},
     "output_type": "execute_result"
    }
   ],
   "source": [
    "a2"
   ]
  },
  {
   "cell_type": "code",
   "execution_count": 125,
   "id": "555c86b0-51f2-47b0-8083-343e4d179d02",
   "metadata": {},
   "outputs": [
    {
     "data": {
      "text/plain": [
       "array([ 7,  9, 11, 13, 15])"
      ]
     },
     "execution_count": 125,
     "metadata": {},
     "output_type": "execute_result"
    }
   ],
   "source": [
    "a1 + a2"
   ]
  },
  {
   "cell_type": "code",
   "execution_count": 126,
   "id": "f8b9c3be-ef14-4cfa-986f-8020af2a217a",
   "metadata": {},
   "outputs": [
    {
     "data": {
      "text/plain": [
       "array([ 6, 14, 24, 36, 50])"
      ]
     },
     "execution_count": 126,
     "metadata": {},
     "output_type": "execute_result"
    }
   ],
   "source": [
    "a1 * a2"
   ]
  },
  {
   "cell_type": "code",
   "execution_count": 127,
   "id": "9f909665-ed79-43c5-9963-0be8dca5fe97",
   "metadata": {},
   "outputs": [
    {
     "data": {
      "text/plain": [
       "array([0.16666667, 0.28571429, 0.375     , 0.44444444, 0.5       ])"
      ]
     },
     "execution_count": 127,
     "metadata": {},
     "output_type": "execute_result"
    }
   ],
   "source": [
    "a1 / a2"
   ]
  },
  {
   "cell_type": "code",
   "execution_count": 128,
   "id": "c02bfa97-6cf6-4d8d-8040-bfb32480cc9c",
   "metadata": {},
   "outputs": [
    {
     "data": {
      "text/plain": [
       "array([0, 0, 0, 0, 0])"
      ]
     },
     "execution_count": 128,
     "metadata": {},
     "output_type": "execute_result"
    }
   ],
   "source": [
    "a1 // a2"
   ]
  },
  {
   "cell_type": "code",
   "execution_count": 129,
   "id": "f97553da-c33e-483b-af88-82abc8d6d86f",
   "metadata": {},
   "outputs": [
    {
     "data": {
      "text/plain": [
       "array([1, 2, 3, 4, 5])"
      ]
     },
     "execution_count": 129,
     "metadata": {},
     "output_type": "execute_result"
    }
   ],
   "source": [
    "a1 % a2"
   ]
  },
  {
   "cell_type": "markdown",
   "id": "c361a8f2-b128-4811-8a2c-1e18abc313db",
   "metadata": {},
   "source": [
    "Broad Casting (adding elements)"
   ]
  },
  {
   "cell_type": "code",
   "execution_count": 133,
   "id": "2cadde7a-8a81-4a20-87dd-8c1ddb1bc43a",
   "metadata": {},
   "outputs": [
    {
     "data": {
      "text/plain": [
       "array([20, 30, 40, 50, 60])"
      ]
     },
     "execution_count": 133,
     "metadata": {},
     "output_type": "execute_result"
    }
   ],
   "source": [
    "l = [10,20,30,40,50]\n",
    "arr = np.array(l)\n",
    "arr + 10"
   ]
  },
  {
   "cell_type": "markdown",
   "id": "31b49220-8789-4aaa-a0ce-6a7fc0c0b733",
   "metadata": {},
   "source": [
    "Deep and shallow copy"
   ]
  },
  {
   "cell_type": "code",
   "execution_count": 139,
   "id": "6ec18b1c-daa2-42cb-8511-b28e267bfe50",
   "metadata": {},
   "outputs": [
    {
     "name": "stdout",
     "output_type": "stream",
     "text": [
      "[ 1  2  3  4  5  6  7  8  9 10 11 12 13 14 15 16 17 18 19 20]\n"
     ]
    }
   ],
   "source": [
    "a = np.arange(1,21)\n",
    "print(a)"
   ]
  },
  {
   "cell_type": "code",
   "execution_count": 146,
   "id": "dacba2f9-ee0c-46b5-8cc9-bb09d3b0b8ef",
   "metadata": {},
   "outputs": [
    {
     "name": "stdout",
     "output_type": "stream",
     "text": [
      "[10 20 30 40 50]\n",
      "[ 1  2  3  4  5  6  7  8  9 10 11 12 13 14 15 16 17 18 19 20]\n"
     ]
    }
   ],
   "source": [
    "slice = a[:5]\n",
    "slice=slice * 10\n",
    "print(slice)\n",
    "print(a)\n",
    "##changes will be made in the main list, in array it will create a copy and make changes there(shallow copy), (deep copy) will make changes in the main arr\n",
    "##slice will create a new arr"
   ]
  },
  {
   "cell_type": "code",
   "execution_count": 153,
   "id": "60996e3d-da4e-4027-876d-d3d897526d4f",
   "metadata": {},
   "outputs": [],
   "source": [
    "import numpy as np\n",
    "A = np.array([[1,2], [3,4]])\n",
    "B = np.array([[5,6], [7,8]])"
   ]
  },
  {
   "cell_type": "code",
   "execution_count": 154,
   "id": "8ed28c01-2504-4b77-937b-828045c6f416",
   "metadata": {},
   "outputs": [
    {
     "data": {
      "text/plain": [
       "array([[1, 2],\n",
       "       [3, 4]])"
      ]
     },
     "execution_count": 154,
     "metadata": {},
     "output_type": "execute_result"
    }
   ],
   "source": [
    "A"
   ]
  },
  {
   "cell_type": "code",
   "execution_count": 155,
   "id": "128562bc-e095-408d-9ad2-2c733843a4e6",
   "metadata": {},
   "outputs": [
    {
     "data": {
      "text/plain": [
       "array([[19, 22],\n",
       "       [43, 50]])"
      ]
     },
     "execution_count": 155,
     "metadata": {},
     "output_type": "execute_result"
    }
   ],
   "source": [
    "np.dot(A,B)"
   ]
  },
  {
   "cell_type": "code",
   "execution_count": 156,
   "id": "6822e379-1b00-413a-b67f-f2542e7d6782",
   "metadata": {},
   "outputs": [
    {
     "data": {
      "text/plain": [
       "array([[1, 3],\n",
       "       [2, 4]])"
      ]
     },
     "execution_count": 156,
     "metadata": {},
     "output_type": "execute_result"
    }
   ],
   "source": [
    "A.T"
   ]
  },
  {
   "cell_type": "code",
   "execution_count": 157,
   "id": "25c909fb-96c2-4933-b57a-ba83ef20789b",
   "metadata": {},
   "outputs": [
    {
     "data": {
      "text/plain": [
       "array([[5, 7],\n",
       "       [6, 8]])"
      ]
     },
     "execution_count": 157,
     "metadata": {},
     "output_type": "execute_result"
    }
   ],
   "source": [
    "B.T"
   ]
  },
  {
   "cell_type": "markdown",
   "id": "75a225c9-eec6-4311-88a5-424e2ec71613",
   "metadata": {},
   "source": [
    "ADVANCED ARRAY MANIPULATION"
   ]
  },
  {
   "cell_type": "code",
   "execution_count": null,
   "id": "a841aad9-d87e-4e88-9ecc-4057e03a3117",
   "metadata": {},
   "outputs": [],
   "source": [
    "##STACKING OF ARRAYS (only vectors can be used )"
   ]
  },
  {
   "cell_type": "code",
   "execution_count": 161,
   "id": "6193b1c0-610a-453b-b8c5-0ebc829f4031",
   "metadata": {},
   "outputs": [
    {
     "data": {
      "text/plain": [
       "array([ 1,  2,  3,  4,  5,  6,  7,  8,  9, 10])"
      ]
     },
     "execution_count": 161,
     "metadata": {},
     "output_type": "execute_result"
    }
   ],
   "source": [
    "a = np.array([1,2,3,4,5])\n",
    "b = np.array([6,7,8,9,10])\n",
    "\n",
    "np.hstack((a,b))"
   ]
  },
  {
   "cell_type": "code",
   "execution_count": 162,
   "id": "d9f467c7-984f-4495-a065-3b5fb4d7e6e7",
   "metadata": {},
   "outputs": [
    {
     "data": {
      "text/plain": [
       "array([[ 1,  2,  3,  4,  5],\n",
       "       [ 6,  7,  8,  9, 10]])"
      ]
     },
     "execution_count": 162,
     "metadata": {},
     "output_type": "execute_result"
    }
   ],
   "source": [
    "np.vstack((a,b))"
   ]
  },
  {
   "cell_type": "code",
   "execution_count": 165,
   "id": "8d9e30af-8308-4d78-9c85-342c712ca77a",
   "metadata": {},
   "outputs": [
    {
     "data": {
      "text/plain": [
       "array([[ 1,  6],\n",
       "       [ 2,  7],\n",
       "       [ 3,  8],\n",
       "       [ 4,  9],\n",
       "       [ 5, 10]])"
      ]
     },
     "execution_count": 165,
     "metadata": {},
     "output_type": "execute_result"
    }
   ],
   "source": [
    "np.column_stack((a,b))"
   ]
  },
  {
   "cell_type": "markdown",
   "id": "de667168-0d63-4cb0-b5d7-3eb02026de08",
   "metadata": {},
   "source": [
    "Splitting Array "
   ]
  },
  {
   "cell_type": "code",
   "execution_count": 168,
   "id": "1988f278-5067-4109-8df3-c08f45642661",
   "metadata": {},
   "outputs": [
    {
     "data": {
      "text/plain": [
       "array([[ 0,  1,  2,  3],\n",
       "       [ 4,  5,  6,  7],\n",
       "       [ 8,  9, 10, 11],\n",
       "       [12, 13, 14, 15]])"
      ]
     },
     "execution_count": 168,
     "metadata": {},
     "output_type": "execute_result"
    }
   ],
   "source": [
    "c = np.arange(16).reshape(4,4)\n",
    "c"
   ]
  },
  {
   "cell_type": "code",
   "execution_count": 171,
   "id": "889a0925-8bed-4dd9-8aa7-be16401f4707",
   "metadata": {},
   "outputs": [
    {
     "data": {
      "text/plain": [
       "[array([[ 0,  1],\n",
       "        [ 4,  5],\n",
       "        [ 8,  9],\n",
       "        [12, 13]]),\n",
       " array([[ 2,  3],\n",
       "        [ 6,  7],\n",
       "        [10, 11],\n",
       "        [14, 15]])]"
      ]
     },
     "execution_count": 171,
     "metadata": {},
     "output_type": "execute_result"
    }
   ],
   "source": [
    "np.hsplit(c,2)"
   ]
  },
  {
   "cell_type": "code",
   "execution_count": 172,
   "id": "f6227532-972d-4265-84ac-f8b2c609ed08",
   "metadata": {},
   "outputs": [
    {
     "data": {
      "text/plain": [
       "[array([[0, 1, 2, 3],\n",
       "        [4, 5, 6, 7]]),\n",
       " array([[ 8,  9, 10, 11],\n",
       "        [12, 13, 14, 15]])]"
      ]
     },
     "execution_count": 172,
     "metadata": {},
     "output_type": "execute_result"
    }
   ],
   "source": [
    "np.vsplit(c,2)"
   ]
  },
  {
   "cell_type": "code",
   "execution_count": null,
   "id": "5f360637-5f28-493d-af79-7a4b2596b1bd",
   "metadata": {},
   "outputs": [],
   "source": []
  }
 ],
 "metadata": {
  "kernelspec": {
   "display_name": "Python 3 (ipykernel)",
   "language": "python",
   "name": "python3"
  },
  "language_info": {
   "codemirror_mode": {
    "name": "ipython",
    "version": 3
   },
   "file_extension": ".py",
   "mimetype": "text/x-python",
   "name": "python",
   "nbconvert_exporter": "python",
   "pygments_lexer": "ipython3",
   "version": "3.13.5"
  }
 },
 "nbformat": 4,
 "nbformat_minor": 5
}
